{
 "cells": [
  {
   "cell_type": "code",
   "execution_count": 89,
   "id": "a6b027d2-d95b-4716-b864-0d2942bf2d83",
   "metadata": {},
   "outputs": [],
   "source": [
    "import pandas as pd\n",
    "from sklearn.model_selection import train_test_split\n",
    "from sklearn.ensemble import GradientBoostingRegressor\n",
    "from sklearn.metrics import mean_squared_error, r2_score\n",
    "import matplotlib.pyplot as plt\n",
    "import numpy as np\n"
   ]
  },
  {
   "cell_type": "code",
   "execution_count": 90,
   "id": "d2de377a-826a-4fc1-a848-43c5fad4b714",
   "metadata": {},
   "outputs": [
    {
     "name": "stdout",
     "output_type": "stream",
     "text": [
      "数据基本信息：\n",
      "<class 'pandas.core.frame.DataFrame'>\n",
      "RangeIndex: 187 entries, 0 to 186\n",
      "Data columns (total 34 columns):\n",
      " #   Column           Non-Null Count  Dtype  \n",
      "---  ------           --------------  -----  \n",
      " 0   Fe               187 non-null    float64\n",
      " 1   Co               187 non-null    float64\n",
      " 2   Mn               187 non-null    float64\n",
      " 3   Al               187 non-null    float64\n",
      " 4   Ni               187 non-null    float64\n",
      " 5   B                187 non-null    float64\n",
      " 6   Hf               187 non-null    float64\n",
      " 7   Si               187 non-null    float64\n",
      " 8   Cu               187 non-null    float64\n",
      " 9   P                187 non-null    float64\n",
      " 10  Mo               187 non-null    float64\n",
      " 11  Cr               187 non-null    float64\n",
      " 12  La               187 non-null    float64\n",
      " 13  Ti               187 non-null    float64\n",
      " 14  Sn               187 non-null    float64\n",
      " 15  V                187 non-null    float64\n",
      " 16  Ga               187 non-null    float64\n",
      " 17  Nb               187 non-null    float64\n",
      " 18  Zr               187 non-null    float64\n",
      " 19  C                187 non-null    float64\n",
      " 20  Gd               187 non-null    float64\n",
      " 21  Y                187 non-null    float64\n",
      " 22  Ta               187 non-null    float64\n",
      " 23  DO3              187 non-null    int64  \n",
      " 24  BCC              187 non-null    int64  \n",
      " 25  FCC              187 non-null    int64  \n",
      " 26  HCP              187 non-null    int64  \n",
      " 27  Orthorhombic     187 non-null    int64  \n",
      " 28  hexagonal        187 non-null    int64  \n",
      " 29  Tetragonal       187 non-null    int64  \n",
      " 30  Primitive Cubic  187 non-null    int64  \n",
      " 31  Ms               187 non-null    float64\n",
      " 32  Hc               187 non-null    float64\n",
      " 33  Hc_log           187 non-null    float64\n",
      "dtypes: float64(26), int64(8)\n",
      "memory usage: 49.8 KB\n"
     ]
    }
   ],
   "source": [
    "# 加载数据集\n",
    "data = pd.read_csv('cleaned_data.csv')\n",
    "\n",
    "print('数据基本信息：')\n",
    "data.info()"
   ]
  },
  {
   "cell_type": "code",
   "execution_count": 91,
   "id": "1655d3f2-b671-485d-9a52-dd2ed35088f7",
   "metadata": {},
   "outputs": [
    {
     "name": "stdout",
     "output_type": "stream",
     "text": [
      "Index(['Fe', 'Co', 'Mn', 'Al', 'Ni', 'B', 'Hf', 'Si', 'Cu', 'P', 'Mo', 'Cr',\n",
      "       'La', 'Ti', 'Sn', 'V', 'Ga', 'Nb', 'Zr', 'C', 'Gd', 'Y', 'Ta', 'DO3',\n",
      "       'BCC', 'FCC', 'HCP', 'Orthorhombic', 'hexagonal', 'Tetragonal',\n",
      "       'Primitive Cubic', 'Ms', 'Hc', 'Hc_log'],\n",
      "      dtype='object')\n"
     ]
    }
   ],
   "source": [
    "# 查看列名\n",
    "column_names = data.columns\n",
    "print(column_names)"
   ]
  },
  {
   "cell_type": "code",
   "execution_count": 92,
   "id": "36126cfa-ec01-4093-8df9-a65c32e03ee8",
   "metadata": {},
   "outputs": [],
   "source": [
    "# 假设 data 是已经定义好的 DataFrame\n",
    "# 提取特征变量 x 和目标变量 y（多目标）\n",
    "x = data.drop(columns=['Ms', 'Hc', 'Hc_log'])\n",
    "y = data[['Ms', 'Hc_log']]  # 变成包含两个目标变量的 DataFrame\n",
    "\n",
    "# 划分训练集和测试集\n",
    "x_train, x_test, y_train, y_test = train_test_split(x, y, test_size=0.2, random_state=42)\n",
    "\n",
    "# 创建 GBDT 回归模型并拟合数据\n",
    "# 针对多目标问题，为每个目标单独创建一个 GBDT 模型\n",
    "model_ms = GradientBoostingRegressor(n_estimators=100, random_state=42)\n",
    "model_hc = GradientBoostingRegressor(n_estimators=100, random_state=42)\n",
    "\n",
    "model_ms.fit(x_train, y_train['Ms'])\n",
    "model_hc.fit(x_train, y_train['Hc_log'])\n",
    "\n",
    "# 在测试集上进行预测\n",
    "y_pred_ms = model_ms.predict(x_test)\n",
    "y_pred_hc = model_hc.predict(x_test)\n",
    "y_pred = pd.DataFrame({'Ms': y_pred_ms, 'Hc_log': y_pred_hc})"
   ]
  },
  {
   "cell_type": "code",
   "execution_count": 93,
   "id": "9d6da3f5-a5e9-4b82-8f29-fabe6d55fd27",
   "metadata": {},
   "outputs": [
    {
     "name": "stdout",
     "output_type": "stream",
     "text": [
      "Ms 均方误差 (MSE): 543.972692789205\n",
      "Ms 决定系数 (R²): 0.8293846365452029\n",
      "Hc 均方误差 (MSE): 0.8488544369571884\n",
      "Hc 决定系数 (R²): 0.7471789115451946\n"
     ]
    }
   ],
   "source": [
    "# 计算均方误差（MSE）\n",
    "mse_ms = mean_squared_error(y_test['Ms'], y_pred_ms)\n",
    "mse_hc = mean_squared_error(y_test['Hc_log'], y_pred_hc)\n",
    "\n",
    "# 计算决定系数（R²）\n",
    "r2_ms = r2_score(y_test['Ms'], y_pred_ms)\n",
    "r2_hc = r2_score(y_test['Hc_log'], y_pred_hc)\n",
    "\n",
    "print(f\"Ms 均方误差 (MSE): {mse_ms}\")\n",
    "print(f\"Ms 决定系数 (R²): {r2_ms}\")\n",
    "print(f\"Hc 均方误差 (MSE): {mse_hc}\")\n",
    "print(f\"Hc 决定系数 (R²): {r2_hc}\")"
   ]
  },
  {
   "cell_type": "code",
   "execution_count": 122,
   "id": "51a19b76-d7c3-4695-9af3-797fbd0ae60d",
   "metadata": {},
   "outputs": [
    {
     "name": "stdout",
     "output_type": "stream",
     "text": [
      "初始最佳复合指标（Ms - λ*Hc）: -12.63871392649699\n"
     ]
    }
   ],
   "source": [
    "# 定义复合指标参数（调整λ以平衡Ms和Hc的重要性）\n",
    "lambda_param = 100  # 示例值，需根据需求调整\n",
    "\n",
    "# 初始化当前最佳复合指标\n",
    "current_composite = (y_train['Ms'] - lambda_param * np.exp(y_train['Hc_log'])).max()\n",
    "print(f\"初始最佳复合指标（Ms - λ*Hc）: {current_composite}\")"
   ]
  },
  {
   "cell_type": "code",
   "execution_count": 123,
   "id": "44aa2291-dec7-477d-8d5d-bca4fa855176",
   "metadata": {},
   "outputs": [],
   "source": [
    "# 加载候选搜索空间\n",
    "test_data = pd.read_csv(\"test_data_SHAP.csv\")\n",
    "x_search = test_data[x.columns]  # 确保特征列一致\n"
   ]
  },
  {
   "cell_type": "code",
   "execution_count": 124,
   "id": "17e86d28-d1fd-4c84-a342-ecd915e601c1",
   "metadata": {},
   "outputs": [],
   "source": [
    "# 对所有数据进行预测\n",
    "pred_ms = model_ms.predict(x_search)\n",
    "pred_hc = model_hc.predict(x_search)\n",
    "\n",
    "# 计算候选样本的复合指标 c_hat = Ms^hat - λ * exp(Hc^hat)\n",
    "c_hat = (pred_ms) - lambda_param * (pred_hc)\n",
    "\n",
    "# 计算期望改进 Δc = c_hat - current_composite\n",
    "delta_c = c_hat - current_composite\n",
    "ie = np.where(delta_c > 0, delta_c, 0)  # 只保留正的改进值\n",
    "\n",
    "# 选出 ie 最大的 10 个样本\n",
    "top10_idx = np.argsort(ie)[-10:]  # 排序后取最后10个索引\n",
    "top10_ie = ie[top10_idx]\n",
    "\n",
    "final_top10_df = x_search.iloc[top10_idx].copy()\n",
    "final_top10_df[\"pred_Ms\"] = pred_ms[top10_idx]\n",
    "final_top10_df[\"pred_Hc_log\"] = pred_hc[top10_idx]\n",
    "final_top10_df[\"c_hat\"] = c_hat[top10_idx]\n",
    "final_top10_df[\"ie\"] = top10_ie"
   ]
  },
  {
   "cell_type": "code",
   "execution_count": 125,
   "id": "7869f766-46dd-4c11-8a6e-4d97f31ff511",
   "metadata": {},
   "outputs": [
    {
     "name": "stdout",
     "output_type": "stream",
     "text": [
      "\n",
      "========== 最终 ie 最大的 10 个样本 ==========\n",
      "         Fe   Co   Mn    Al   Ni     B   Hf    Si   Cu    P  ...  FCC  HCP  \\\n",
      "87874  62.0  0.0  0.8   4.1  0.0  13.1  0.0  17.5  0.0  0.0  ...  1.0  1.0   \n",
      "83723  64.9  0.0  3.8   5.1  0.0  12.9  0.0   5.7  0.0  0.0  ...  1.0  0.0   \n",
      "30440  60.3  0.0  9.7   4.8  0.0  12.9  0.0  12.3  0.0  0.0  ...  1.0  0.0   \n",
      "694    64.3  0.0  4.1   6.6  0.0  13.2  0.0   8.6  0.0  0.0  ...  1.0  0.0   \n",
      "82784  37.4  0.0  6.9  14.4  0.0  13.7  0.0  15.2  0.0  0.0  ...  0.0  1.0   \n",
      "60658  55.4  0.0  3.2  11.1  0.0  13.5  0.0  13.1  0.0  0.0  ...  0.0  0.0   \n",
      "39858  52.4  0.0  4.2   7.1  0.0  13.9  0.0  15.4  0.0  0.0  ...  1.0  0.0   \n",
      "90640  58.8  0.0  8.3   0.7  0.0  13.0  0.0  12.4  0.0  0.0  ...  1.0  1.0   \n",
      "28740  56.8  0.0  7.2   4.5  0.0  14.4  0.0  12.9  0.0  0.0  ...  1.0  1.0   \n",
      "63164  53.9  0.0  6.8   9.0  0.0  13.7  0.0  14.3  0.0  0.0  ...  1.0  0.0   \n",
      "\n",
      "       Orthorhombic  hexagonal  Tetragonal  Primitive Cubic     pred_Ms  \\\n",
      "87874           0.0        1.0         0.0              0.0  205.028686   \n",
      "83723           0.0        1.0         0.0              0.0  177.555508   \n",
      "30440           0.0        1.0         0.0              0.0  173.532781   \n",
      "694             0.0        0.0         0.0              0.0  172.909743   \n",
      "82784           0.0        0.0         1.0              0.0  176.789512   \n",
      "60658           0.0        1.0         1.0              0.0  186.689016   \n",
      "39858           0.0        0.0         0.0              0.0  158.500213   \n",
      "90640           0.0        0.0         0.0              0.0  166.930843   \n",
      "28740           0.0        1.0         1.0              0.0  168.241058   \n",
      "63164           0.0        0.0         1.0              0.0  166.802642   \n",
      "\n",
      "       pred_Hc_log      c_hat         ie  \n",
      "87874     1.998290   5.199691  17.838405  \n",
      "83723     1.704509   7.104628  19.743342  \n",
      "30440     1.663268   7.206027  19.844740  \n",
      "694       1.650115   7.898272  20.536986  \n",
      "82784     1.671227   9.666820  22.305534  \n",
      "60658     1.764471  10.241909  22.880623  \n",
      "39858     1.411694  17.330851  29.969565  \n",
      "90640     1.489640  17.966830  30.605544  \n",
      "28740     1.489640  19.277045  31.915759  \n",
      "63164     1.472303  19.572373  32.211087  \n",
      "\n",
      "[10 rows x 35 columns]\n",
      "最终的 10 个样本已保存到 'final_top10.xlsx' 文件中。\n"
     ]
    }
   ],
   "source": [
    "# 最终输出 ie 最大的 10 个样本并保存到 Excel 文件\n",
    "print(\"\\n========== 最终 ie 最大的 10 个样本 ==========\")\n",
    "if 'final_top10_df' in locals():\n",
    "    print(final_top10_df)\n",
    "    # 将结果保存到 Excel 文件（文件名可以根据需要调整）\n",
    "    final_top10_df.to_excel(\"final_top10_SHAP.xlsx\", index=False)\n",
    "    print(\"最终的 10 个样本已保存到 'final_top10.xlsx' 文件中。\")\n",
    "else:\n",
    "    print(\"未获取到 ie 最大的 10 个样本信息。\")"
   ]
  },
  {
   "cell_type": "code",
   "execution_count": 98,
   "id": "4107161c-9f22-4e73-bf0d-3aec1d3817c3",
   "metadata": {},
   "outputs": [],
   "source": [
    "# # ============= 8. 最终输出 ie 最大的 6 个样本并保存到 Excel 文件 =============\n",
    "# print(\"\\n========== 最终 ie 最大的 6 个样本 ==========\")\n",
    "# if 'final_top6_df' in locals():\n",
    "#     print(final_top6_df)\n",
    "#     # 将结果保存到 Excel 文件（文件名可以根据需要调整）\n",
    "#     final_top6_df.to_excel(\"final_top6.xlsx\", index=False)\n",
    "#     print(\"最终的 6 个样本已保存到 'final_top6.xlsx' 文件中。\")\n",
    "# else:\n",
    "#     print(\"未获取到 ie 最大的 6 个样本信息。\")"
   ]
  },
  {
   "cell_type": "code",
   "execution_count": null,
   "id": "2f63bb0b-ff10-41c3-ad6d-530304ac0d33",
   "metadata": {},
   "outputs": [],
   "source": []
  },
  {
   "cell_type": "code",
   "execution_count": null,
   "id": "43037977-f74e-4a3b-8bc9-21d5fe01926f",
   "metadata": {},
   "outputs": [],
   "source": []
  }
 ],
 "metadata": {
  "kernelspec": {
   "display_name": "Python (materials)",
   "language": "python",
   "name": "materials"
  },
  "language_info": {
   "codemirror_mode": {
    "name": "ipython",
    "version": 3
   },
   "file_extension": ".py",
   "mimetype": "text/x-python",
   "name": "python",
   "nbconvert_exporter": "python",
   "pygments_lexer": "ipython3",
   "version": "3.9.21"
  }
 },
 "nbformat": 4,
 "nbformat_minor": 5
}
