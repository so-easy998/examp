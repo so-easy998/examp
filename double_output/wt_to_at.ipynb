{
 "cells": [
  {
   "cell_type": "code",
   "execution_count": 1,
   "id": "bea9e39a-0633-45f9-85cc-95ae975c16fc",
   "metadata": {},
   "outputs": [
    {
     "name": "stdin",
     "output_type": "stream",
     "text": [
      "请输入合金中的元素数量： 5\n",
      "请输入第1个元素的名称（例如 Fe、Cu 等）： Fe\n",
      "请输入Fe的重量百分比（wt%）： 83.35\n",
      "请输入第2个元素的名称（例如 Fe、Cu 等）： Mn\n",
      "请输入Mn的重量百分比（wt%）： 1.56\n",
      "请输入第3个元素的名称（例如 Fe、Cu 等）： Cr\n",
      "请输入Cr的重量百分比（wt%）： 4.41\n",
      "请输入第4个元素的名称（例如 Fe、Cu 等）： Si\n",
      "请输入Si的重量百分比（wt%）： 5.17\n",
      "请输入第5个元素的名称（例如 Fe、Cu 等）： Al\n",
      "请输入Al的重量百分比（wt%）： 5.52\n"
     ]
    },
    {
     "name": "stdout",
     "output_type": "stream",
     "text": [
      "\n",
      "原子百分比计算结果：\n",
      "Fe: 74.84 at%\n",
      "Mn: 1.42 at%\n",
      "Cr: 4.25 at%\n",
      "Si: 9.23 at%\n",
      "Al: 10.26 at%\n"
     ]
    }
   ],
   "source": [
    "def wt_percent_to_at_percent():\n",
    "    # 完整元素周期表的原子量（单位：g/mol）\n",
    "    atomic_weights = {\n",
    "        'H': 1.008, 'He': 4.0026, 'Li': 6.94, 'Be': 9.0122, 'B': 10.81,\n",
    "        'C': 12.011, 'N': 14.007, 'O': 15.999, 'F': 18.998, 'Ne': 20.180,\n",
    "        'Na': 22.990, 'Mg': 24.305, 'Al': 26.982, 'Si': 28.085, 'P': 30.974,\n",
    "        'S': 32.06, 'Cl': 35.45, 'Ar': 39.948, 'K': 39.098, 'Ca': 40.078,\n",
    "        'Sc': 44.956, 'Ti': 47.867, 'V': 50.942, 'Cr': 51.996, 'Mn': 54.938,\n",
    "        'Fe': 55.845, 'Co': 58.933, 'Ni': 58.693, 'Cu': 63.546, 'Zn': 65.38,\n",
    "        'Ga': 69.723, 'Ge': 72.630, 'As': 74.922, 'Se': 78.971, 'Br': 79.904,\n",
    "        'Kr': 83.798, 'Rb': 85.468, 'Sr': 87.62, 'Y': 88.906, 'Zr': 91.224,\n",
    "        'Nb': 92.906, 'Mo': 95.95, 'Tc': 98, 'Ru': 101.07, 'Rh': 102.906,\n",
    "        'Pd': 106.42, 'Ag': 107.87, 'Cd': 112.414, 'In': 114.818, 'Sn': 118.710,\n",
    "        'Sb': 121.760, 'Te': 127.60, 'I': 126.904, 'Xe': 131.293, 'Cs': 132.905,\n",
    "        'Ba': 137.327, 'La': 138.905, 'Ce': 140.116, 'Pr': 140.908, 'Nd': 144.242,\n",
    "        'Pm': 145, 'Sm': 150.36, 'Eu': 151.964, 'Gd': 157.25, 'Tb': 158.925,\n",
    "        'Dy': 162.500, 'Ho': 164.930, 'Er': 167.259, 'Tm': 168.934, 'Yb': 173.054,\n",
    "        'Lu': 174.967, 'Hf': 178.49, 'Ta': 180.948, 'W': 183.84, 'Re': 186.207,\n",
    "        'Os': 190.23, 'Ir': 192.217, 'Pt': 195.084, 'Au': 196.967, 'Hg': 200.592,\n",
    "        'Tl': 204.383, 'Pb': 207.2, 'Bi': 208.980, 'Po': 209, 'At': 210,\n",
    "        'Rn': 222, 'Fr': 223, 'Ra': 226, 'Ac': 227, 'Th': 232.038,\n",
    "        'Pa': 231.036, 'U': 238.029, 'Np': 237, 'Pu': 244, 'Am': 243,\n",
    "        'Cm': 247, 'Bk': 247, 'Cf': 251, 'Es': 252, 'Fm': 257,\n",
    "        'Md': 258, 'No': 259, 'Lr': 262, 'Rf': 267, 'Db': 268,\n",
    "        'Sg': 271, 'Bh': 272, 'Hs': 270, 'Mt': 276, 'Ds': 281,\n",
    "        'Rg': 280, 'Cn': 285, 'Nh': 284, 'Fl': 289, 'Mc': 288,\n",
    "        'Lv': 293, 'Ts': 294, 'Og': 294\n",
    "    }\n",
    "\n",
    "    # 输入元素数量\n",
    "    n = int(input(\"请输入合金中的元素数量：\"))\n",
    "\n",
    "    elements = []\n",
    "    wt_percents = []\n",
    "    aw_list = []\n",
    "\n",
    "    # 输入每个元素的信息\n",
    "    for i in range(n):\n",
    "        while True:\n",
    "            element = input(f\"请输入第{i + 1}个元素的名称（例如 Fe、Cu 等）：\").strip().capitalize()\n",
    "            if element in atomic_weights:\n",
    "                break\n",
    "            else:\n",
    "                print(f\"错误：元素 '{element}' 不在原子量数据库中，请重新输入。\")\n",
    "\n",
    "        wt = float(input(f\"请输入{element}的重量百分比（wt%）：\"))\n",
    "        elements.append(element)\n",
    "        wt_percents.append(wt)\n",
    "        aw_list.append(atomic_weights[element])\n",
    "\n",
    "    # 验证重量百分比总和\n",
    "    total_wt = sum(wt_percents)\n",
    "    if not 99.9 <= total_wt <= 100.1:\n",
    "        print(f\"警告：重量百分比总和为{total_wt}%，可能存在输入错误！\")\n",
    "\n",
    "    # 计算原子百分比\n",
    "    molar_ratios = [wt / aw for wt, aw in zip(wt_percents, aw_list)]\n",
    "    total_molar = sum(molar_ratios)\n",
    "    at_percents = [(ratio / total_molar) * 100 for ratio in molar_ratios]\n",
    "\n",
    "    # 输出结果\n",
    "    print(\"\\n原子百分比计算结果：\")\n",
    "    for element, at in zip(elements, at_percents):\n",
    "        print(f\"{element}: {at:.2f} at%\")\n",
    "\n",
    "\n",
    "# 示例使用\n",
    "if __name__ == \"__main__\":\n",
    "    wt_percent_to_at_percent()\n",
    "    "
   ]
  },
  {
   "cell_type": "code",
   "execution_count": null,
   "id": "4e54a2ac-0cba-4e4f-a0ac-eb46b610889c",
   "metadata": {},
   "outputs": [],
   "source": []
  }
 ],
 "metadata": {
  "kernelspec": {
   "display_name": "Python (materials)",
   "language": "python",
   "name": "materials"
  },
  "language_info": {
   "codemirror_mode": {
    "name": "ipython",
    "version": 3
   },
   "file_extension": ".py",
   "mimetype": "text/x-python",
   "name": "python",
   "nbconvert_exporter": "python",
   "pygments_lexer": "ipython3",
   "version": "3.9.21"
  }
 },
 "nbformat": 4,
 "nbformat_minor": 5
}
