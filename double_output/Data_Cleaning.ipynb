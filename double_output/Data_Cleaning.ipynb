{
 "cells": [
  {
   "cell_type": "code",
   "execution_count": 25,
   "id": "16a22501-cc63-4615-a7f2-6f076a6c1d3c",
   "metadata": {},
   "outputs": [],
   "source": [
    "import pandas as pd\n",
    "import matplotlib.pyplot as plt\n",
    "import seaborn as sns\n",
    "import numpy as np"
   ]
  },
  {
   "cell_type": "code",
   "execution_count": 26,
   "id": "7d2c224d-3ebe-4918-a25f-b21840d2eac6",
   "metadata": {},
   "outputs": [
    {
     "name": "stdout",
     "output_type": "stream",
     "text": [
      "找到中文字体: SimHei\n"
     ]
    },
    {
     "data": {
      "text/plain": [
       "True"
      ]
     },
     "execution_count": 26,
     "metadata": {},
     "output_type": "execute_result"
    }
   ],
   "source": [
    "# 改进的中文字体设置\n",
    "plt.rcParams[\"font.family\"] = [\"SimHei\", \"WenQuanYi Micro Hei\", \"Heiti TC\", \"sans-serif\"]\n",
    "plt.rcParams['axes.unicode_minus'] = False  # 解决负号显示问题\n",
    "\n",
    "# 尝试查找可用的中文字体\n",
    "def set_chinese_font():\n",
    "    import matplotlib.font_manager as fm\n",
    "    font_names = [f.name for f in fm.fontManager.ttflist]\n",
    "    \n",
    "    # 常用中文字体列表\n",
    "    chinese_fonts = ['SimHei', 'WenQuanYi Micro Hei', 'Heiti TC', 'Microsoft YaHei']\n",
    "    \n",
    "    for font in chinese_fonts:\n",
    "        if font in font_names:\n",
    "            plt.rcParams[\"font.family\"] = font\n",
    "            print(f\"找到中文字体: {font}\")\n",
    "            return True\n",
    "    \n",
    "    print(\"未找到中文字体，图表中的中文可能无法正常显示\")\n",
    "    return False\n",
    "\n",
    "# 设置中文字体\n",
    "set_chinese_font()"
   ]
  },
  {
   "cell_type": "code",
   "execution_count": 27,
   "id": "dcc03155-0b4b-43f8-880c-a702ac044d77",
   "metadata": {},
   "outputs": [],
   "source": [
    "# 读取数据\n",
    "file_path = 'data_fin.csv'\n",
    "data = pd.read_csv(file_path, encoding='ISO-8859-1')"
   ]
  },
  {
   "cell_type": "code",
   "execution_count": 28,
   "id": "18f242e4-db62-46a0-bada-dc1efb2be2d6",
   "metadata": {},
   "outputs": [
    {
     "name": "stdout",
     "output_type": "stream",
     "text": [
      "Index(['Fe', 'Co', 'Mn', 'Al', 'Ni', 'B', 'Hf', 'Si', 'Cu', 'P', 'Mo', 'Cr',\n",
      "       'La', 'Ti', 'Sn', 'V', 'Ga', 'Nb', 'Zr', 'C', 'Gd', 'Y', 'Ta', 'DO3',\n",
      "       'BCC', 'FCC', 'HCP', 'Orthorhombic', 'hexagonal', 'Tetragonal',\n",
      "       'Primitive Cubic', 'Ms', 'Hc'],\n",
      "      dtype='object')\n"
     ]
    }
   ],
   "source": [
    "# 查看列名\n",
    "column_names = data.columns\n",
    "print(column_names)"
   ]
  },
  {
   "cell_type": "code",
   "execution_count": 29,
   "id": "9f4a4090-e616-40d3-a8a1-4e175fda71c3",
   "metadata": {},
   "outputs": [
    {
     "name": "stdout",
     "output_type": "stream",
     "text": [
      "\n",
      "原始数据 Ms 和 Hc 统计信息:\n",
      "               Ms            Hc\n",
      "count  247.000000    247.000000\n",
      "mean   126.419873   1902.245883\n",
      "std     52.531877   3942.859450\n",
      "min      1.081700      0.770000\n",
      "25%     84.400000     35.860625\n",
      "50%    125.700000    334.225380\n",
      "75%    168.744311   1850.176213\n",
      "max    225.824317  26045.000000\n"
     ]
    },
    {
     "data": {
      "text/plain": [
       "<Figure size 1500x1000 with 0 Axes>"
      ]
     },
     "execution_count": 29,
     "metadata": {},
     "output_type": "execute_result"
    },
    {
     "data": {
      "text/plain": [
       "<Figure size 1500x1000 with 0 Axes>"
      ]
     },
     "metadata": {},
     "output_type": "display_data"
    }
   ],
   "source": [
    "# 查看 Ms 和 Hc 列的统计信息\n",
    "print(\"\\n原始数据 Ms 和 Hc 统计信息:\")\n",
    "print(data[['Ms', 'Hc']].describe())\n",
    "\n",
    "# 绘制原始数据分布\n",
    "plt.figure(figsize=(15, 10))"
   ]
  },
  {
   "cell_type": "code",
   "execution_count": 30,
   "id": "436f30ec-8801-4143-8ab6-8bf49e0cfbfe",
   "metadata": {},
   "outputs": [],
   "source": [
    "# 原始 Ms 分布\n",
    "plt.subplot(2, 2, 1)\n",
    "sns.histplot(data['Ms'], bins=30, kde=True)\n",
    "plt.title(\"原始 Ms 分布\")\n",
    "plt.xlabel(\"Ms\")\n",
    "plt.ylabel(\"频次\")\n",
    "\n",
    "# 原始 Hc 分布\n",
    "plt.subplot(2, 2, 2)\n",
    "sns.histplot(data['Hc'], bins=30, kde=True)\n",
    "plt.title(\"原始 Hc 分布\")\n",
    "plt.xlabel(\"Hc\")\n",
    "plt.ylabel(\"频次\")\n",
    "\n",
    "# 原始 Ms 箱线图\n",
    "plt.subplot(2, 2, 3)\n",
    "sns.boxplot(y=data['Ms'])\n",
    "plt.title(\"原始 Ms 箱线图\")\n",
    "plt.ylabel(\"Ms\")\n",
    "\n",
    "# 原始 Hc 箱线图\n",
    "plt.subplot(2, 2, 4)\n",
    "sns.boxplot(y=data['Hc'])\n",
    "plt.title(\"原始 Hc 箱线图\")\n",
    "plt.ylabel(\"Hc\")\n",
    "\n",
    "plt.tight_layout()\n",
    "plt.savefig('Ms_Hc原始数据分布.png', dpi=300, bbox_inches='tight')\n",
    "plt.close()"
   ]
  },
  {
   "cell_type": "code",
   "execution_count": 31,
   "id": "f468ac52-0af3-4125-aab2-6d52e1d82aaf",
   "metadata": {},
   "outputs": [
    {
     "name": "stdout",
     "output_type": "stream",
     "text": [
      "\n",
      "【Ms IQR 计算结果】\n",
      "Q1: 84.4, Q3: 168.7443108718765, IQR: 84.3443108718765\n",
      "异常值下界: -42.11646630781475, 上界: 295.2607771796913\n"
     ]
    }
   ],
   "source": [
    "# 1️⃣ 先处理 Ms，使用 IQR 方法\n",
    "Q1_Ms = data['Ms'].quantile(0.25)\n",
    "Q3_Ms = data['Ms'].quantile(0.75)\n",
    "IQR_Ms = Q3_Ms - Q1_Ms\n",
    "\n",
    "lower_bound_Ms = Q1_Ms - 1.5 * IQR_Ms\n",
    "upper_bound_Ms = Q3_Ms + 1.5 * IQR_Ms\n",
    "print(f\"\\n【Ms IQR 计算结果】\")\n",
    "print(f\"Q1: {Q1_Ms}, Q3: {Q3_Ms}, IQR: {IQR_Ms}\")\n",
    "print(f\"异常值下界: {lower_bound_Ms}, 上界: {upper_bound_Ms}\")\n",
    "\n",
    "# 过滤 Ms 的异常值\n",
    "data_cleaned = data[(data['Ms'] >= lower_bound_Ms) & (data['Ms'] <= upper_bound_Ms)]"
   ]
  },
  {
   "cell_type": "code",
   "execution_count": 32,
   "id": "1ef5d76b-99dc-4822-b523-a1d6c9349ae3",
   "metadata": {},
   "outputs": [
    {
     "name": "stdout",
     "output_type": "stream",
     "text": [
      "\n",
      "【Ms_div30列统计信息】\n",
      "count    247.000000\n",
      "mean       4.213996\n",
      "std        1.751063\n",
      "min        0.036057\n",
      "25%        2.813333\n",
      "50%        4.190000\n",
      "75%        5.624810\n",
      "max        7.527477\n",
      "Name: Ms_div30, dtype: float64\n"
     ]
    }
   ],
   "source": [
    "# 新增：Ms列除以30添加到新列\n",
    "data_cleaned['Ms_div30'] = data_cleaned['Ms'] / 30\n",
    "print(\"\\n【Ms_div30列统计信息】\")\n",
    "print(data_cleaned['Ms_div30'].describe())"
   ]
  },
  {
   "cell_type": "code",
   "execution_count": 33,
   "id": "c9e59ac1-6e96-4d43-9e27-178e432e0bde",
   "metadata": {},
   "outputs": [
    {
     "name": "stdout",
     "output_type": "stream",
     "text": [
      "\n",
      "【对数转换后的 Hc_log 统计信息】\n",
      "count    247.000000\n",
      "mean       5.527189\n",
      "std        2.417791\n",
      "min        0.570980\n",
      "25%        3.606885\n",
      "50%        5.814803\n",
      "75%        7.523519\n",
      "max       10.167619\n",
      "Name: Hc_log, dtype: float64\n"
     ]
    }
   ],
   "source": [
    "# 2️⃣ 处理 Hc：进行对数转换\n",
    "data_cleaned['Hc_log'] = np.log1p(data_cleaned['Hc'])  # log(Hc + 1)\n",
    "\n",
    "print(\"\\n【对数转换后的 Hc_log 统计信息】\")\n",
    "print(data_cleaned['Hc_log'].describe())"
   ]
  },
  {
   "cell_type": "code",
   "execution_count": 34,
   "id": "97256ddb-fd9c-47ad-8422-27c9579b9ba9",
   "metadata": {},
   "outputs": [
    {
     "name": "stdout",
     "output_type": "stream",
     "text": [
      "\n",
      "数据可视化完成，已生成Ms_Hc原始数据分布.png和Ms_Hc处理后数据分布.png文件\n",
      "处理后的数据量: 247 行\n"
     ]
    }
   ],
   "source": [
    "# 处理后 Ms 分布\n",
    "plt.subplot(2, 2, 1)\n",
    "sns.histplot(data_cleaned['Ms'], bins=30, kde=True)\n",
    "plt.title(\"处理后 Ms 分布\")\n",
    "plt.xlabel(\"Ms\")\n",
    "plt.ylabel(\"频次\")\n",
    "\n",
    "# 处理后 Hc_log 分布\n",
    "plt.subplot(2, 2, 2)\n",
    "sns.histplot(data_cleaned['Hc_log'], bins=30, kde=True)\n",
    "plt.title(\"对数转换后 Hc 分布\")\n",
    "plt.xlabel(\"Hc_log\")\n",
    "plt.ylabel(\"频次\")\n",
    "\n",
    "# 处理后 Ms 箱线图\n",
    "plt.subplot(2, 2, 3)\n",
    "sns.boxplot(y=data_cleaned['Ms'])\n",
    "plt.title(\"处理后 Ms 箱线图\")\n",
    "plt.ylabel(\"Ms\")\n",
    "\n",
    "# 处理后 Hc_log 箱线图\n",
    "plt.subplot(2, 2, 4)\n",
    "sns.boxplot(y=data_cleaned['Hc_log'])\n",
    "plt.title(\"对数转换后 Hc 箱线图\")\n",
    "plt.ylabel(\"Hc_log\")\n",
    "\n",
    "plt.tight_layout()\n",
    "plt.savefig('Ms_Hc处理后数据分布.png', dpi=300, bbox_inches='tight')\n",
    "plt.close()\n",
    "\n",
    "print(\"\\n数据可视化完成，已生成Ms_Hc原始数据分布.png和Ms_Hc处理后数据分布.png文件\")\n",
    "print(f\"处理后的数据量: {data_cleaned.shape[0]} 行\")  "
   ]
  },
  {
   "cell_type": "code",
   "execution_count": 35,
   "id": "351860e0-37cf-4d8a-be76-54e562615216",
   "metadata": {},
   "outputs": [
    {
     "name": "stdout",
     "output_type": "stream",
     "text": [
      "\n",
      "清洗后的数据已保存至 cleaned_data_V1.csv\n",
      "最终数据量: 247 行\n"
     ]
    }
   ],
   "source": [
    "# 4️⃣ 保存数据\n",
    "save_original_Hc = False  # 是否保存原始尺度的 Hc，False 表示保存对数转换后的数据\n",
    "\n",
    "if save_original_Hc:\n",
    "    data_cleaned['Hc'] = np.expm1(data_cleaned['Hc_log'])  # 反变换回 Hc\n",
    "    data_cleaned.drop(columns=['Hc_log'], inplace=True)  # 删除 Hc_log\n",
    "\n",
    "cleaned_file_path = 'cleaned_data_V1.csv'\n",
    "data_cleaned.to_csv(cleaned_file_path, index=False, encoding='ISO-8859-1')\n",
    "\n",
    "print(f\"\\n清洗后的数据已保存至 {cleaned_file_path}\")\n",
    "print(f\"最终数据量: {data_cleaned.shape[0]} 行\")"
   ]
  },
  {
   "cell_type": "code",
   "execution_count": null,
   "id": "d363d00f-c69f-4906-8361-10147215fd68",
   "metadata": {},
   "outputs": [],
   "source": []
  },
  {
   "cell_type": "code",
   "execution_count": null,
   "id": "136ea3ae-742b-4d73-a895-21a11d21c7eb",
   "metadata": {},
   "outputs": [],
   "source": []
  }
 ],
 "metadata": {
  "kernelspec": {
   "display_name": "Python (materials)",
   "language": "python",
   "name": "materials"
  },
  "language_info": {
   "codemirror_mode": {
    "name": "ipython",
    "version": 3
   },
   "file_extension": ".py",
   "mimetype": "text/x-python",
   "name": "python",
   "nbconvert_exporter": "python",
   "pygments_lexer": "ipython3",
   "version": "3.9.21"
  }
 },
 "nbformat": 4,
 "nbformat_minor": 5
}
